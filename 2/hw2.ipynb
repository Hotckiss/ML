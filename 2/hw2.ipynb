{
  "cells": [
    {
      "cell_type": "markdown",
      "metadata": {
        "collapsed": true,
        "pycharm": {
          "is_executing": false,
          "name": "#%% md\n"
        }
      },
      "source": "### 1a)\nПространство фичей разбивается на две части: $\\le a$ и $\\geq a$\nТогда максимальное число разбиений $n-1$, где n - число точек.\nЕще два тривиальных, когда все больеш или все меньше.\nИтого, $m_h(n)\u003dn+1$, $BP\u003d2$, $d_{VC}(h)\u003d1$\n\n### 1б)\nАналогично предыдущему, только теперь надо в отстортированный список\nпо значению фичи поставить точки $a$ и $b$.\nИ еще одно, когда между $a$ и $b$ ничего не попало.\nИтого, $m_h(n)\u003d\\frac{(n+1)n}{2}+1$, $BP\u003d3$, $d_{VC}(h)\u003d2$"
    },
    {
      "cell_type": "code",
      "execution_count": null,
      "outputs": [],
      "source": "",
      "metadata": {
        "pycharm": {
          "metadata": false,
          "name": "#%%\n"
        }
      }
    }
  ],
  "metadata": {
    "language_info": {
      "codemirror_mode": {
        "name": "ipython",
        "version": 2
      },
      "file_extension": ".py",
      "mimetype": "text/x-python",
      "name": "python",
      "nbconvert_exporter": "python",
      "pygments_lexer": "ipython2",
      "version": "2.7.6"
    },
    "kernelspec": {
      "name": "python3",
      "language": "python",
      "display_name": "Python 3"
    }
  },
  "nbformat": 4,
  "nbformat_minor": 0
}
